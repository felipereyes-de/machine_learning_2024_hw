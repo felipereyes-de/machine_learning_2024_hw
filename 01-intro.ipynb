{
 "cells": [
  {
   "cell_type": "markdown",
   "metadata": {},
   "source": [
    "# 01-Intro Homework"
   ]
  },
  {
   "cell_type": "markdown",
   "metadata": {},
   "source": [
    "## Q1. Pandas version"
   ]
  },
  {
   "cell_type": "code",
   "execution_count": 12,
   "metadata": {},
   "outputs": [
    {
     "data": {
      "text/plain": [
       "'2.2.3'"
      ]
     },
     "execution_count": 12,
     "metadata": {},
     "output_type": "execute_result"
    }
   ],
   "source": [
    "# What's the version of Pandas that you installed?\n",
    "\n",
    "import pandas as pd\n",
    "pd.__version__"
   ]
  },
  {
   "cell_type": "markdown",
   "metadata": {},
   "source": [
    "### Getting the data"
   ]
  },
  {
   "cell_type": "code",
   "execution_count": 19,
   "metadata": {},
   "outputs": [],
   "source": [
    "# For this homework, we'll use the Laptops Price dataset. Download it from here.\n",
    "\n",
    "import requests\n",
    "\n",
    "# Link to the dataset provided for this homework\n",
    "url = \"https://raw.githubusercontent.com/alexeygrigorev/datasets/master/laptops.csv\"\n",
    "\n",
    "# Fetch the file with the data\n",
    "response = requests.get(url)\n",
    "\n",
    "# Save the dataset locally\n",
    "with open('laptops.csv', 'wb') as file:\n",
    "    file.write(response.content)"
   ]
  },
  {
   "cell_type": "markdown",
   "metadata": {},
   "source": [
    "## Q2. Records count"
   ]
  },
  {
   "cell_type": "code",
   "execution_count": 20,
   "metadata": {},
   "outputs": [
    {
     "name": "stdout",
     "output_type": "stream",
     "text": [
      "The CSV file has 2160 rows.\n"
     ]
    }
   ],
   "source": [
    "# How many records are in the dataset?\n",
    "\n",
    "# Read the CSV file\n",
    "df = pd.read_csv('laptops.csv')\n",
    "\n",
    "# Count the number of rows\n",
    "row_count = len(df)\n",
    "\n",
    "print(f\"The CSV file has {row_count} rows.\")"
   ]
  },
  {
   "cell_type": "markdown",
   "metadata": {},
   "source": [
    "## Q3. Laptop brands"
   ]
  },
  {
   "cell_type": "code",
   "execution_count": 24,
   "metadata": {},
   "outputs": [
    {
     "name": "stdout",
     "output_type": "stream",
     "text": [
      "There are 27 unique laptop brands in this dataset.\n",
      "\n",
      "List of unique brands:\n",
      "['Asus' 'Alurin' 'MSI' 'HP' 'Lenovo' 'Medion' 'Acer' 'Apple' 'Razer'\n",
      " 'Gigabyte' 'Dell' 'LG' 'Samsung' 'PcCom' 'Microsoft' 'Primux' 'Prixton'\n",
      " 'Dynabook Toshiba' 'Thomson' 'Denver' 'Deep Gaming' 'Vant' 'Innjoo'\n",
      " 'Jetwing' 'Millenium' 'Realme' 'Toshiba']\n"
     ]
    }
   ],
   "source": [
    "# How many laptop brands are presented in the dataset?\n",
    "\n",
    "# Read the CSV file\n",
    "df = pd.read_csv('laptops.csv')\n",
    "\n",
    "# Count the number of unique values in the column 'Brand'\n",
    "unique_brands = df['Brand'].nunique()\n",
    "\n",
    "print(f\"There are {unique_brands} unique laptop brands in this dataset.\")\n",
    "print(\"\\nList of unique brands:\")\n",
    "print(df['Brand'].unique())"
   ]
  },
  {
   "cell_type": "markdown",
   "metadata": {},
   "source": [
    "## Q4. Missing values"
   ]
  },
  {
   "cell_type": "code",
   "execution_count": 25,
   "metadata": {},
   "outputs": [
    {
     "name": "stdout",
     "output_type": "stream",
     "text": [
      "Number of columns with missing values: 3\n"
     ]
    }
   ],
   "source": [
    "# How many columns in the dataset have missing values?\n",
    "\n",
    "# Read the CSV file\n",
    "df = pd.read_csv('laptops.csv')\n",
    "\n",
    "# Count the number of missing values in each column\n",
    "missing_values = df.isnull().sum()\n",
    "\n",
    "# Count how many columns have missing values\n",
    "columns_with_missing = (missing_values > 0).sum()\n",
    "\n",
    "print(f\"Number of columns with missing values: {columns_with_missing}\")"
   ]
  },
  {
   "cell_type": "markdown",
   "metadata": {},
   "source": [
    "## Q5. Maximum final price"
   ]
  },
  {
   "cell_type": "code",
   "execution_count": 28,
   "metadata": {},
   "outputs": [
    {
     "name": "stdout",
     "output_type": "stream",
     "text": [
      "The maximum final price of Dell notebooks in the dataset is: 3936.0\n"
     ]
    }
   ],
   "source": [
    "# What's the maximum final price of Dell notebooks in the dataset?\n",
    "\n",
    "# Read the CSV file\n",
    "df = pd.read_csv('laptops.csv')\n",
    "\n",
    "# Filter for Dell notebooks and find the maximum price\n",
    "max_dell_price = df[(df['Brand'].str.lower() == 'dell') & (df['Final Price'].notnull())]['Final Price'].max()\n",
    "\n",
    "print(f\"The maximum final price of Dell notebooks in the dataset is: {max_dell_price}\")"
   ]
  },
  {
   "cell_type": "markdown",
   "metadata": {},
   "source": [
    "## Q6. Median value of Screen"
   ]
  },
  {
   "cell_type": "code",
   "execution_count": 35,
   "metadata": {},
   "outputs": [
    {
     "name": "stdout",
     "output_type": "stream",
     "text": [
      "1. Initial median value of 'Screen' column: 15.6\n",
      "2. Most frequent value of 'Screen' column: 15.6\n",
      "- Number of missing values in 'Screen' column before imputation: 4\n",
      "- Number of missing values in 'Screen' column after imputation: 0\n",
      "4. New median value of 'Screen' column after imputation: 15.6\n"
     ]
    }
   ],
   "source": [
    "# Find the median value of Screen column in the dataset.\n",
    "# Next, calculate the most frequent value of the same Screen column.\n",
    "# Use fillna method to fill the missing values in Screen column with the most frequent value from the previous step.\n",
    "# Now, calculate the median value of Screen once again.\n",
    "# Has it changed?\n",
    "\n",
    "# Read the CSV file\n",
    "df = pd.read_csv('laptops.csv')\n",
    "\n",
    "# 1. Find the median value of 'Screen' column\n",
    "initial_median = df['Screen'].median()\n",
    "\n",
    "print(f\"1. Initial median value of 'Screen' column: {initial_median}\")\n",
    "\n",
    "# 2. Calculate the most frequent value of the 'Screen' column\n",
    "most_frequent = df['Screen'].mode().iloc[0]\n",
    "\n",
    "print(f\"2. Most frequent value of 'Screen' column: {most_frequent}\")\n",
    "print(f\"- Number of missing values in 'Screen' column before imputation: {df['Screen'].isnull().sum()}\")\n",
    "\n",
    "# 3. Fill missing values in 'Screen' column with the most frequent value\n",
    "df['Screen'] = df['Screen'].fillna(most_frequent)\n",
    "\n",
    "print(f\"- Number of missing values in 'Screen' column after imputation: {df['Screen'].isnull().sum()}\")\n",
    "\n",
    "# 4. Calculate the median value of 'Screen' again\n",
    "new_median = df['Screen'].median()\n",
    "\n",
    "print(f\"4. New median value of 'Screen' column after imputation: {new_median}\")\n"
   ]
  },
  {
   "cell_type": "markdown",
   "metadata": {},
   "source": [
    "## Q7. Sum of weights"
   ]
  },
  {
   "cell_type": "code",
   "execution_count": 11,
   "metadata": {},
   "outputs": [
    {
     "name": "stdout",
     "output_type": "stream",
     "text": [
      "Shape of X: (6, 3)\n",
      "Shape of XTX: (3, 3)\n",
      "Shape of XTX_inv: (3, 3)\n",
      "Shape of y: (6,)\n",
      "Shape of w: (3,)\n",
      "Sum of all elements in w: 91.29988062995753\n",
      "The w vector:\n",
      "[45.58076606  0.42783519 45.29127938]\n"
     ]
    }
   ],
   "source": [
    "# Select all the \"Innjoo\" laptops from the dataset.\n",
    "# Select only columns RAM, Storage, Screen.\n",
    "# Get the underlying NumPy array. Let's call it X.\n",
    "# Compute matrix-matrix multiplication between the transpose of X and X. To get the transpose, use X.T. Let's call the result XTX.\n",
    "# Compute the inverse of XTX.\n",
    "# Create an array y with values [1100, 1300, 800, 900, 1000, 1100].\n",
    "# Multiply the inverse of XTX with the transpose of X, and then multiply the result by y. Call the result w.\n",
    "# What's the sum of all the elements of the result?\n",
    "\n",
    "import numpy as np\n",
    "\n",
    "# Read the CSV file\n",
    "df = pd.read_csv('laptops.csv')\n",
    "\n",
    "# Select all the \"Innjoo\" laptops from the dataset\n",
    "innjoo_df = df[df['Brand'].str.lower() == 'innjoo']\n",
    "\n",
    "# Select only columns RAM, Storage, Screen\n",
    "selected_df = innjoo_df[['RAM', 'Storage', 'Screen']]\n",
    "\n",
    "# Get the underlying NumPy array\n",
    "X = selected_df.to_numpy()\n",
    "\n",
    "# Compute matrix-matrix multiplication between the transpose of X and X\n",
    "XTX = np.dot(X.T, X)\n",
    "\n",
    "# Compute the inverse of XTX\n",
    "XTX_inv = np.linalg.inv(XTX)\n",
    "\n",
    "# Create an array y with the given values\n",
    "y = np.array([1100, 1300, 800, 900, 1000, 1100])\n",
    "\n",
    "# Multiply the inverse of XTX with the transpose of X, and then multiply the result by y\n",
    "w = np.dot(np.dot(XTX_inv, X.T), y)\n",
    "\n",
    "# Compute the sum of all elements in the result\n",
    "result_sum = np.sum(w)\n",
    "\n",
    "print(f\"Shape of X: {X.shape}\")\n",
    "print(f\"Shape of XTX: {XTX.shape}\")\n",
    "print(f\"Shape of XTX_inv: {XTX_inv.shape}\")\n",
    "print(f\"Shape of y: {y.shape}\")\n",
    "print(f\"Shape of w: {w.shape}\")\n",
    "print(f\"Sum of all elements in w: {result_sum}\")\n",
    "\n",
    "# Display the w vector\n",
    "print(\"The w vector:\")\n",
    "print(w)"
   ]
  }
 ],
 "metadata": {
  "kernelspec": {
   "display_name": "3.12.3",
   "language": "python",
   "name": "python3"
  },
  "language_info": {
   "codemirror_mode": {
    "name": "ipython",
    "version": 3
   },
   "file_extension": ".py",
   "mimetype": "text/x-python",
   "name": "python",
   "nbconvert_exporter": "python",
   "pygments_lexer": "ipython3",
   "version": "3.12.3"
  }
 },
 "nbformat": 4,
 "nbformat_minor": 2
}
